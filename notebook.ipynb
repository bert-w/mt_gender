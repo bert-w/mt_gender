{
  "nbformat": 4,
  "nbformat_minor": 0,
  "metadata": {
    "colab": {
      "name": "GenderBias",
      "provenance": [],
      "collapsed_sections": []
    },
    "kernelspec": {
      "name": "python3",
      "display_name": "Python 3"
    },
    "language_info": {
      "name": "python"
    }
  },
  "cells": [
    {
      "cell_type": "markdown",
      "metadata": {
        "id": "xNPl-jbMWoxU"
      },
      "source": [
        "# Google Drive setup\n",
        "The script below creates a subdirectory on your Google Drive, which is populated with various Git repositories that we need.\n",
        "\n",
        "Note that you need to change `gender_bias_dir` based on if we use our fork (which works with NL input) or the original repository (which works with EN input)."
      ]
    },
    {
      "cell_type": "code",
      "metadata": {
        "id": "rEErf7Hd8LDn"
      },
      "source": [
        "# Run this to mount Google Drive. It should show an input with instructions.\n",
        "from google.colab import drive\n",
        "import os\n",
        "\n",
        "mount_dir = '/content/drive';\n",
        "drive.mount(mount_dir);\n",
        "\n",
        "root_dir = mount_dir + '/MyDrive/genderbias_project';\n",
        "if not os.path.exists(root_dir):\n",
        "  os.mkdir(root_dir);\n",
        "\n",
        "%cd {root_dir}\n",
        "\n",
        "# Auto install the required git repositories:\n",
        "# Original GenderBias project\n",
        "!git clone https://github.com/gabrielStanovsky/mt_gender.git mt_gender\n",
        "# Our fork which contains additions for making NL language work\n",
        "!git clone https://github.com/bert-w/mt_gender.git mt_gender_fork\n",
        "# fast_align module required in the evaluations\n",
        "!git clone https://github.com/clab/fast_align.git\n",
        "\n",
        "\n",
        "gender_bias_dir = root_dir + '/mt_gender_fork';\n",
        "# gender_bias_dir = root_dir + '/mt_gender';\n",
        "fast_align_dir = root_dir + '/fast_align';"
      ],
      "execution_count": null,
      "outputs": []
    },
    {
      "cell_type": "code",
      "metadata": {
        "id": "slULddpK9y6x"
      },
      "source": [
        "# List the contents of both projects to see if it worked.\n",
        "print(gender_bias_dir, fast_align_dir)\n",
        "!ls {gender_bias_dir} -al\n",
        "!ls {fast_align_dir} -al"
      ],
      "execution_count": null,
      "outputs": []
    },
    {
      "cell_type": "markdown",
      "metadata": {
        "id": "pWgBHvuKWtu-"
      },
      "source": [
        "# Functions"
      ]
    },
    {
      "cell_type": "code",
      "metadata": {
        "id": "SfSHwE5j_RRI"
      },
      "source": [
        "# Load a csv file from the human annotations.\n",
        "import pandas as pd\n",
        "pd.set_option('max_colwidth', 500)\n",
        "\n",
        "def read_human_annotations(file):\n",
        "  return pd.read_csv(gender_bias_dir + file);\n",
        "\n",
        "# df = read_human_annotations('/data/human_annotations/es.in - es.in.csv')\n",
        "# display(df)"
      ],
      "execution_count": null,
      "outputs": []
    },
    {
      "cell_type": "code",
      "metadata": {
        "id": "6T7GCp60BbB9"
      },
      "source": [
        "def read_aggregate(file):\n",
        "  \"\"\"Load a csv file from the aggregates.\n",
        "  Options:\n",
        "  - en.txt (mixed?)\n",
        "  - en_anti.txt (anti-stereotypical like \"female mechanic\")\n",
        "  - en_pro.txt (pro-stereotypical like \"male construction worker\")\n",
        "  \"\"\"\n",
        "  return pd.read_csv(gender_bias_dir + file, sep='\\t', names=['gender', 's_index', 'sentence', 'subject']);\n",
        "\n",
        "# df = read_aggregate('/data/aggregates/en.txt');\n",
        "# display(df)"
      ],
      "execution_count": null,
      "outputs": []
    },
    {
      "cell_type": "code",
      "metadata": {
        "id": "NBmwsXurEwZn"
      },
      "source": [
        "def read_translation(file):\n",
        "  return pd.read_csv(gender_bias_dir + file, sep='\\ \\|\\|\\|\\ ', names=['en', 'nl'], engine='python');"
      ],
      "execution_count": null,
      "outputs": []
    },
    {
      "cell_type": "code",
      "metadata": {
        "id": "xF0EMN4CSPNl"
      },
      "source": [
        "import os\n",
        "import time\n",
        "\n",
        "def install_fast_align():\n",
        "  \"\"\" Install fast_align from a directory in your Google Drive.\n",
        "  \"\"\"\n",
        "\n",
        "  dir = fast_align_dir;\n",
        "\n",
        "  if os.path.isfile(dir + '/build/fast_align'):\n",
        "    return dir;\n",
        "\n",
        "  %cd {dir}\n",
        "  !echo \"Current dir: $(pwd)\"\n",
        "\n",
        "  # Install required libs.\n",
        "  !apt-get install libgoogle-perftools-dev libsparsehash-dev\n",
        "\n",
        "  # Build instructions from https://github.com/clab/fast_align\n",
        "  %mkdir -p build\n",
        "  %cd build\n",
        "  !cmake -S ..\n",
        "  !make\n",
        "\n",
        "  return dir;\n",
        "\n",
        "def install_python_dependencies():\n",
        "  %cd {gender_bias_dir}\n",
        "  !chmod 755 -R {gender_bias_dir}\n",
        "  # Run their install script for all required Python modules.\n",
        "  !./install.sh\n",
        "  pass\n",
        "\n",
        "def evaluate_language(source='en', destination='es', translator='google'):\n",
        "  \"\"\" Run a bash evaluation script from the repo to determine gender bias in the source file compared to the destination.\n",
        "\n",
        "  For example evaluating 'en to 'es' with translator 'google' looks like:\n",
        "  1. It translates the input file first if it does not exist yet, which creates /translations/google/en-es.txt.\n",
        "  2. It then tries to align the translated file using fast_align, which creates /src/forward/en-es.align. I believe the alignment process\n",
        "  is about mapping words from one language to another.\n",
        "  3. The alignments are evaluated, and the output is stored in /output/en-es.txt.\n",
        "\n",
        "  :param str source: The input, which is a language file from the /data/aggregates folder, e.g. use \"en\" for the \"en.txt\" file.\n",
        "  :param str destination: A language file from the /data/aggregates folder, e.g. use \"en\" for the \"en.txt\" file.\n",
        "  :param str translator: One of \"google\", \"bing\", \"aws\", \"sota\", \"systran\".\n",
        "  \"\"\"\n",
        "\n",
        "  # Call the install_fast_align function which returns the path immediately if it's installed correctly.\n",
        "  fast_align_path = install_fast_align()\n",
        "  %env FAST_ALIGN_BASE={fast_align_path}\n",
        "  %cd {gender_bias_dir}\n",
        "  %mkdir -p output\n",
        "\n",
        "  # Run some unix commands so the .sh files can be executed.\n",
        "  !chmod 755 -R {root_dir}\n",
        "  # Move to src folder because paths are relative (and it's required by the repository).\n",
        "  %cd {gender_bias_dir}/src\n",
        "  !echo \"Current dir: $(pwd)\"\n",
        "\n",
        "  timestamp = time.strftime(\"%Y%m%d-%H%M%S\");\n",
        "\n",
        "  # Define the source file to be a txt file in the aggregates folder.\n",
        "  source_file = '/data/aggregates/' + source + '.txt';\n",
        "  # Define the output file to be in the \"output\" directory in the root of the GenderBias project.\n",
        "  output_file = '../output/' + translator + '-' + source + '-' + destination + '.' + timestamp + '.txt';\n",
        "\n",
        "  # Execute script from the repo.\n",
        "  !../scripts/evaluate_language.sh {gender_bias_dir}{source_file} {destination} {translator} > {output_file}\n",
        "\n",
        "  print('Output file: ' + gender_bias_dir + '/src/' + output_file);\n",
        "  pass"
      ],
      "execution_count": null,
      "outputs": []
    },
    {
      "cell_type": "markdown",
      "metadata": {
        "id": "XXfat1RvW5Zw"
      },
      "source": [
        "# Preparation\n",
        "Prepare a `/content/drive/MyDrive/genderbias_project/nl_en_translation_check.csv` file for preparing the Dutch ground truth."
      ]
    },
    {
      "cell_type": "code",
      "metadata": {
        "id": "4vMAbTo-gd5Y"
      },
      "source": [
        "import pandas as pd\n",
        "\n",
        "def generate_translation_to_aggregate(source, aggregate):\n",
        "  \"\"\"Load a translation file from the repo (directory /translations) and try to\n",
        "  change it to the format of the aggregate file (with the various headers).\n",
        "  \"\"\"\n",
        "  # Read source which determines the translation output.\n",
        "  df_t = source if type(source) is pd.core.frame.DataFrame else read_translation(source);\n",
        "  # Read original aggegrate to re-use the existing labels.\n",
        "  df_a = aggregate if type(aggregate) is pd.core.frame.DataFrame else read_aggregate(aggregate);\n",
        "\n",
        "  # Build complete dataframe by joining the 2 above into the proper format.\n",
        "  df = pd.concat([df_t['nl'], df_a[['gender', 's_index', 'subject']]], axis=1)\n",
        "  df = df[['gender', 's_index', 'nl', 'subject']].rename({'nl': 'sentence'}, axis=1)  \n",
        "\n",
        "  return df;\n",
        "\n",
        "def prepare_translation_file():\n",
        "  \"\"\"Prepare a dataframe with columns from NL to the left and columns from EN to the right,\n",
        "  so we can check the translations manually.\n",
        "  \"\"\"\n",
        "  df_en = read_aggregate('/data/aggregates/en.txt');\n",
        "  df = generate_translation_to_aggregate(source='/translations/google/en-nl.txt',\n",
        "                                    aggregate=df_en);\n",
        "\n",
        "  dfx = df.join(df_en, lsuffix='_nl', rsuffix='_en')\n",
        "  return dfx\n",
        "  \n",
        "# dfx = prepare_translation_file()\n",
        "# dfx.to_csv(root_dir + '/nl_en_translation_check.csv')"
      ],
      "execution_count": null,
      "outputs": []
    },
    {
      "cell_type": "markdown",
      "metadata": {
        "id": "xs2A7eX4WyMQ"
      },
      "source": [
        "# Installation & Evaluation"
      ]
    },
    {
      "cell_type": "code",
      "metadata": {
        "id": "n5E6ZCntWPuS"
      },
      "source": [
        "# Installation (only required once)\n",
        "install_fast_align()\n",
        "install_python_dependencies()"
      ],
      "execution_count": null,
      "outputs": []
    },
    {
      "cell_type": "markdown",
      "metadata": {
        "id": "Yyn_SdhChDnW"
      },
      "source": [
        "## Setup API keys\n",
        "If you are going to evaluate a language pair that has no translations yet (like `/translations/google/en-es.txt` etc), you need to add an API key for the given service. \n",
        "\n",
        "After a translation task, the output is automatically saved in the project folder so it does not need to be ran again (unless you remove it)."
      ]
    },
    {
      "cell_type": "code",
      "metadata": {
        "id": "oCVxaPBya6cE"
      },
      "source": [
        "# Insert Google API key so we can use the translation API.\n",
        "%env GOOGLE_APPLICATION_CREDENTIALS=\n",
        "\n",
        "# Set default region for AWS services (London in this case).\n",
        "%env AWS_DEFAULT_REGION=eu-west-2\n",
        "# Set AWS user (restricted to using AWS Translate only).\n",
        "%env AWS_ACCESS_KEY_ID=\n",
        "%env AWS_SECRET_ACCESS_KEY=\n",
        "\n",
        "# Set Bing/Microsoft Translator credentials. Make sure that these credentials have a paid plan, because the free plan has a request limit.\n",
        "%env BING_TRANSLATOR_TEXT_KEY=\n",
        "%env BING_TRANSLATOR_REGION_KEY=westeurope"
      ],
      "execution_count": null,
      "outputs": []
    },
    {
      "cell_type": "markdown",
      "metadata": {
        "id": "4Trn081zhfbM"
      },
      "source": [
        "## Evaluation"
      ]
    },
    {
      "cell_type": "code",
      "metadata": {
        "id": "lYEWNv-eyVMF"
      },
      "source": [
        "# Evaluate en-es (requires original GenderBias project, see very first code block).\n",
        "# evaluate_language(source='en', destination='es', translator='google')\n",
        "\n",
        "# Evaluate nl-es (requires our GenderBias fork here since it requires changes to support NL).\n",
        "evaluate_language(source='nl', destination='es', translator='google')\n",
        "# evaluate_language(source='nl', destination='ar', translator='aws')\n",
        "# evaluate_language(source='nl', destination='ar', translator='bing')\n",
        "# evaluate_language(source='nl', destination='es', translator='deepl')\n"
      ],
      "execution_count": null,
      "outputs": []
    }
  ]
}
